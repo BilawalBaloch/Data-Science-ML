{
  "nbformat": 4,
  "nbformat_minor": 0,
  "metadata": {
    "colab": {
      "provenance": [],
      "authorship_tag": "ABX9TyOGPdPWLcno6pE6aodwd6sx",
      "include_colab_link": true
    },
    "kernelspec": {
      "name": "python3",
      "display_name": "Python 3"
    },
    "language_info": {
      "name": "python"
    }
  },
  "cells": [
    {
      "cell_type": "markdown",
      "metadata": {
        "id": "view-in-github",
        "colab_type": "text"
      },
      "source": [
        "<a href=\"https://colab.research.google.com/github/BilawalBaloch/Data-Science-ML/blob/main/FOREST_TREE_SVR.ipynb\" target=\"_parent\"><img src=\"https://colab.research.google.com/assets/colab-badge.svg\" alt=\"Open In Colab\"/></a>"
      ]
    },
    {
      "cell_type": "code",
      "execution_count": null,
      "metadata": {
        "id": "pojwggcDRWMk"
      },
      "outputs": [],
      "source": [
        "import numpy as np\n",
        "import pandas as pd\n",
        "import matplotlib.pyplot as plt\n",
        "import seaborn as sns\n",
        "from sklearn.svm import SVR\n",
        "from sklearn.tree import DecisionTreeRegressor\n",
        "from sklearn.ensemble import RandomForestRegressor\n"
      ]
    },
    {
      "cell_type": "code",
      "source": [
        "data = sns.load_dataset('diamonds',)"
      ],
      "metadata": {
        "id": "WyZKWEH6TXdt"
      },
      "execution_count": null,
      "outputs": []
    },
    {
      "cell_type": "code",
      "source": [
        "data.shape"
      ],
      "metadata": {
        "colab": {
          "base_uri": "https://localhost:8080/"
        },
        "id": "TKwMF_ceUfvG",
        "outputId": "784d245a-fc0d-4819-93fc-9f61d6f5b36e"
      },
      "execution_count": null,
      "outputs": [
        {
          "output_type": "execute_result",
          "data": {
            "text/plain": [
              "(53940, 10)"
            ]
          },
          "metadata": {},
          "execution_count": 29
        }
      ]
    },
    {
      "cell_type": "code",
      "source": [
        "data.info()"
      ],
      "metadata": {
        "colab": {
          "base_uri": "https://localhost:8080/"
        },
        "id": "sU2j3r5kUiD1",
        "outputId": "0954f4b2-1393-4826-e50d-1801015f2b79"
      },
      "execution_count": null,
      "outputs": [
        {
          "output_type": "stream",
          "name": "stdout",
          "text": [
            "<class 'pandas.core.frame.DataFrame'>\n",
            "RangeIndex: 53940 entries, 0 to 53939\n",
            "Data columns (total 10 columns):\n",
            " #   Column   Non-Null Count  Dtype   \n",
            "---  ------   --------------  -----   \n",
            " 0   carat    53940 non-null  float64 \n",
            " 1   cut      53940 non-null  category\n",
            " 2   color    53940 non-null  category\n",
            " 3   clarity  53940 non-null  category\n",
            " 4   depth    53940 non-null  float64 \n",
            " 5   table    53940 non-null  float64 \n",
            " 6   price    53940 non-null  int64   \n",
            " 7   x        53940 non-null  float64 \n",
            " 8   y        53940 non-null  float64 \n",
            " 9   z        53940 non-null  float64 \n",
            "dtypes: category(3), float64(6), int64(1)\n",
            "memory usage: 3.0 MB\n"
          ]
        }
      ]
    },
    {
      "cell_type": "code",
      "source": [
        "data.isnull().sum()"
      ],
      "metadata": {
        "colab": {
          "base_uri": "https://localhost:8080/"
        },
        "id": "WvsODyLrUleS",
        "outputId": "350780c6-bfe7-40d4-8709-0aa53236d5ec"
      },
      "execution_count": null,
      "outputs": [
        {
          "output_type": "execute_result",
          "data": {
            "text/plain": [
              "carat      0\n",
              "cut        0\n",
              "color      0\n",
              "clarity    0\n",
              "depth      0\n",
              "table      0\n",
              "price      0\n",
              "x          0\n",
              "y          0\n",
              "z          0\n",
              "dtype: int64"
            ]
          },
          "metadata": {},
          "execution_count": 31
        }
      ]
    },
    {
      "cell_type": "code",
      "source": [
        "x = data[[\"carat\"]]\n",
        "y = data[\"price\"]"
      ],
      "metadata": {
        "id": "mWA1GABRVZeL"
      },
      "execution_count": null,
      "outputs": []
    },
    {
      "cell_type": "markdown",
      "source": [
        "# SVR"
      ],
      "metadata": {
        "id": "bUb-_9q2U4Kc"
      }
    },
    {
      "cell_type": "code",
      "source": [
        "from sklearn.model_selection import train_test_split\n",
        "x_train,x_test,y_train,y_test= train_test_split(x,y,test_size=0.3,random_state=42)\n",
        "model = SVR(kernel=\"rbf\",degree=1)\n",
        "model.fit(x_train,y_train)\n",
        "Y_pred = model.predict(x_test)"
      ],
      "metadata": {
        "id": "eZ1Fxm9cUxk4"
      },
      "execution_count": null,
      "outputs": []
    },
    {
      "cell_type": "code",
      "source": [
        "from sklearn.metrics import mean_squared_error, r2_score\n",
        "mse = mean_squared_error(y_test, Y_pred)\n",
        "r2 = r2_score(y_test, Y_pred)\n",
        "print(\"Mean Squared Error (MSE):\", mse)\n",
        "print(\"R-squared (R2):\", r2)"
      ],
      "metadata": {
        "colab": {
          "base_uri": "https://localhost:8080/"
        },
        "id": "aZqIggwmYYDq",
        "outputId": "675a6404-5492-4733-818a-312c0f56f310"
      },
      "execution_count": null,
      "outputs": [
        {
          "output_type": "stream",
          "name": "stdout",
          "text": [
            "Mean Squared Error (MSE): 5622149.26217727\n",
            "R-squared (R2): 0.6395125370900369\n"
          ]
        }
      ]
    },
    {
      "cell_type": "markdown",
      "source": [
        "# DecisionTreeRegressor"
      ],
      "metadata": {
        "id": "2z3VVq8UZxi4"
      }
    },
    {
      "cell_type": "code",
      "source": [
        "from sklearn.model_selection import train_test_split\n",
        "x_train,x_test,y_train,y_test= train_test_split(x,y,train_size=0.3,random_state=42)\n",
        "model1 = DecisionTreeRegressor()\n",
        "model1.fit(x_train,y_train)\n",
        "y1_pred=model1.predict(x_test)"
      ],
      "metadata": {
        "id": "lWYaDSE4Z4Ch"
      },
      "execution_count": null,
      "outputs": []
    },
    {
      "cell_type": "code",
      "source": [
        "from sklearn.metrics import mean_squared_error, r2_score\n",
        "mse = mean_squared_error(y_test,y1_pred)\n",
        "r2 = r2_score(y_test, y1_pred)\n",
        "print(\"Mean Squared Error (MSE):\", mse)\n",
        "print(\"R-squared (R2):\", r2)"
      ],
      "metadata": {
        "colab": {
          "base_uri": "https://localhost:8080/"
        },
        "id": "184m8eFobYhv",
        "outputId": "4a709e78-cb2d-49d9-f545-c27fde3b5128"
      },
      "execution_count": null,
      "outputs": [
        {
          "output_type": "stream",
          "name": "stdout",
          "text": [
            "Mean Squared Error (MSE): 2142387.1993711498\n",
            "R-squared (R2): 0.8647382499339527\n"
          ]
        }
      ]
    },
    {
      "cell_type": "markdown",
      "source": [
        "# RandomForestRegressor"
      ],
      "metadata": {
        "id": "8mggn-YHcr8p"
      }
    },
    {
      "cell_type": "code",
      "source": [
        "from sklearn.model_selection import train_test_split\n",
        "x_train,x_test,y_train,y_test= train_test_split(x,y,test_size=0.3,random_state=42)\n",
        "model2 = RandomForestRegressor()\n",
        "model2.fit(x_train,y_train)\n",
        "y2_pred=model.predict(x_test)"
      ],
      "metadata": {
        "id": "0HUcs60jcxal"
      },
      "execution_count": null,
      "outputs": []
    },
    {
      "cell_type": "code",
      "source": [
        "from sklearn.metrics import r2_score , mean_squared_error\n",
        "r2_score = r2_score(y_test,y2_pred)\n",
        "mean_squared_error = mean_squared_error(y_test,y2_pred)\n",
        "print(\"r2_score:\",r2_score)\n",
        "print(\"mean_squared_error:\",mean_squared_error)"
      ],
      "metadata": {
        "colab": {
          "base_uri": "https://localhost:8080/"
        },
        "id": "jwh5fj0ZdyjZ",
        "outputId": "46805174-f6c9-4423-c01e-347472e288fa"
      },
      "execution_count": null,
      "outputs": [
        {
          "output_type": "stream",
          "name": "stdout",
          "text": [
            "r2_score: 0.6395125370900369\n",
            "mean_squared_error: 5622149.26217727\n"
          ]
        }
      ]
    },
    {
      "cell_type": "code",
      "source": [
        "from xgboost import XGBRegressor\n",
        "model = XGBRegressor(gamma=1,learning_rate=0.01,max_depth = 200 )\n",
        "model.fit(x_train,y_train)\n",
        "y3_pred=model.predict(x_test)"
      ],
      "metadata": {
        "id": "gwSQwOt9yQe9"
      },
      "execution_count": null,
      "outputs": []
    },
    {
      "cell_type": "code",
      "source": [
        "from sklearn.metrics import r2_score, mean_squared_error\n",
        "\n",
        "r2_score = r2_score(y_test, y3_pred)\n",
        "mean_squared_error = mean_squared_error(y_test, y3_pred)\n",
        "\n",
        "print(\"r2_score:\", r2_score)\n",
        "print(\"mean_squared_error:\", mean_squared_error)"
      ],
      "metadata": {
        "colab": {
          "base_uri": "https://localhost:8080/"
        },
        "id": "sjHQYlx50Txq",
        "outputId": "64274df9-a513-4868-b28f-6c5884abc9d6"
      },
      "execution_count": null,
      "outputs": [
        {
          "output_type": "stream",
          "name": "stdout",
          "text": [
            "r2_score: 0.7566919257811162\n",
            "mean_squared_error: 3794623.8099634713\n"
          ]
        }
      ]
    },
    {
      "cell_type": "code",
      "source": [],
      "metadata": {
        "id": "xnhbyp4N02qa"
      },
      "execution_count": null,
      "outputs": []
    }
  ]
}